{
 "cells": [
  {
   "cell_type": "markdown",
   "metadata": {},
   "source": [
    "# https://penseeartificielle.fr/methode-google-comprendre-sens-mots-word-embedding-python-gensim/"
   ]
  },
  {
   "cell_type": "code",
   "execution_count": null,
   "metadata": {},
   "outputs": [],
   "source": [
    "phrases = [\n",
    "\"le chat mange ses croquettes\",\n",
    "\"le chien aime ses croquettes\",\n",
    "\"le chat ronronne et mange\"\n",
    "]"
   ]
  },
  {
   "cell_type": "code",
   "execution_count": null,
   "metadata": {},
   "outputs": [],
   "source": [
    "#!pip install sklearn"
   ]
  },
  {
   "cell_type": "code",
   "execution_count": null,
   "metadata": {},
   "outputs": [],
   "source": [
    "import numpy as np\n",
    "import pandas as pd\n",
    " \n",
    "from sklearn.feature_extraction.text import CountVectorizer, TfidfVectorizer\n",
    "\n",
    "vectorizer = CountVectorizer()\n",
    "vector = vectorizer.fit_transform(phrases)\n",
    " \n",
    "df = pd.DataFrame(\n",
    "    vector.toarray(),\n",
    "    columns=vectorizer.get_feature_names(),\n",
    "    index=[f\"phrase_{i+1}\" for i in range(len(phrases))]\n",
    ")\n",
    " \n",
    "print(vectorizer.get_feature_names())\n",
    "print(df)"
   ]
  },
  {
   "cell_type": "code",
   "execution_count": null,
   "metadata": {},
   "outputs": [],
   "source": [
    "tfidf_vectorizer = TfidfVectorizer()\n",
    "tfidf_vector = tfidf_vectorizer.fit_transform(phrases)\n",
    " \n",
    "df = pd.DataFrame(\n",
    "np.around(tfidf_vector.toarray(), 2),\n",
    "columns=vectorizer.get_feature_names(),\n",
    "index=[f\"phrase_{i+1}\" for i in range(len(phrases))]\n",
    ")\n",
    " \n",
    "print(df)"
   ]
  },
  {
   "cell_type": "code",
   "execution_count": null,
   "metadata": {},
   "outputs": [],
   "source": [
    "from scipy.spatial.distance import cosine\n",
    "cosine(\n",
    " tfidf_vectorizer.transform(['le chat ronronne et mange']).toarray(),\n",
    " tfidf_vectorizer.transform(['le chat mange ses croquettes']).toarray(),\n",
    ")"
   ]
  },
  {
   "cell_type": "code",
   "execution_count": null,
   "metadata": {},
   "outputs": [],
   "source": [
    "phrases = [\n",
    "\"le chat mange ses croquettes\",\n",
    "\"le chien dévore ses croquettes\",\n",
    "\"le chat dévore son paté\",\n",
    "\"jean va travailler\",\n",
    "\"le chat mange son repas\",\n",
    "\"jacque aime quand son chien mange\"\n",
    "]"
   ]
  },
  {
   "cell_type": "code",
   "execution_count": null,
   "metadata": {},
   "outputs": [],
   "source": [
    "from collections import defaultdict\n",
    "contexts = defaultdict(list)\n",
    "for phrase in phrases:\n",
    "    words = phrase.split()\n",
    "    for i, word in enumerate(words):\n",
    "        candidate = [i+j for j in range (-1, 2) if j != 0]\n",
    "        actual = [c for c in candidate if 0 <= c < len(words)]\n",
    "        contexts[word] = contexts[word] + [words[a] for a in actual]"
   ]
  },
  {
   "cell_type": "code",
   "execution_count": null,
   "metadata": {},
   "outputs": [],
   "source": [
    "contexts"
   ]
  },
  {
   "cell_type": "code",
   "execution_count": null,
   "metadata": {},
   "outputs": [],
   "source": [
    "vectorizer = TfidfVectorizer()\n",
    "vectorizer.fit(phrases)\n",
    " \n",
    "vectors = {}\n",
    " \n",
    "for k, v in contexts.items():\n",
    "    str_ = ' '.join(v)\n",
    "    vectors[k] = np.around(vectorizer.transform([str_]).toarray(), 2)[0]"
   ]
  },
  {
   "cell_type": "code",
   "execution_count": null,
   "metadata": {},
   "outputs": [],
   "source": [
    "vectors"
   ]
  },
  {
   "cell_type": "code",
   "execution_count": null,
   "metadata": {},
   "outputs": [],
   "source": [
    "def most_similar(word):\n",
    "    scores = []\n",
    "    keys_ = [k for k in vectors.keys() if k != word]\n",
    "    for k in keys_:\n",
    "        scores.append(\n",
    "          1-cosine(\n",
    "              vectors[word],\n",
    "              vectors[k]\n",
    "          )\n",
    "        )\n",
    "    return pd.Series(\n",
    "        scores,\n",
    "        index=keys_\n",
    "      ).sort_values(ascending=False)#.head(1)"
   ]
  },
  {
   "cell_type": "code",
   "execution_count": null,
   "metadata": {},
   "outputs": [],
   "source": [
    "most_similar('paté')"
   ]
  },
  {
   "cell_type": "code",
   "execution_count": null,
   "metadata": {},
   "outputs": [],
   "source": []
  }
 ],
 "metadata": {
  "kernelspec": {
   "display_name": "Python 3",
   "language": "python",
   "name": "python3"
  },
  "language_info": {
   "codemirror_mode": {
    "name": "ipython",
    "version": 3
   },
   "file_extension": ".py",
   "mimetype": "text/x-python",
   "name": "python",
   "nbconvert_exporter": "python",
   "pygments_lexer": "ipython3",
   "version": "3.8.6"
  }
 },
 "nbformat": 4,
 "nbformat_minor": 4
}
