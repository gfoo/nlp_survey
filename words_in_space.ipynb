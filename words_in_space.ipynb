{
 "cells": [
  {
   "cell_type": "markdown",
   "metadata": {},
   "source": [
    "# https://rebeccabilbro.github.io/words-in-space/"
   ]
  },
  {
   "cell_type": "code",
   "execution_count": null,
   "metadata": {},
   "outputs": [],
   "source": [
    "import os\n",
    "\n",
    "from sklearn.datasets.base import Bunch\n",
    "from yellowbrick.download import download_all\n",
    "\n",
    "## The path to the test data sets\n",
    "FIXTURES  = os.path.join(os.getcwd(), \"data\")\n",
    "\n",
    "## Dataset loading mechanisms\n",
    "datasets = {\n",
    "    \"hobbies\": os.path.join(FIXTURES, \"hobbies\")\n",
    "}\n",
    "\n",
    "\n",
    "def load_data(name, download=True):\n",
    "    \"\"\"\n",
    "    Loads and wrangles the passed in text corpus by name.\n",
    "    If download is specified, this method will download any missing files.\n",
    "    \"\"\"\n",
    "\n",
    "    # Get the path from the datasets\n",
    "    path = datasets[name]\n",
    "\n",
    "    # Check if the data exists, otherwise download or raise\n",
    "    if not os.path.exists(path):\n",
    "        if download:\n",
    "            download_all()\n",
    "        else:\n",
    "            raise ValueError((\n",
    "                \"'{}' dataset has not been downloaded, \"\n",
    "                \"use the download.py module to fetch datasets\"\n",
    "            ).format(name))\n",
    "\n",
    "    # Read the directories in the directory as the categories.\n",
    "    categories = [\n",
    "        cat for cat in os.listdir(path)\n",
    "        if os.path.isdir(os.path.join(path, cat))\n",
    "    ]\n",
    "\n",
    "    files  = [] # holds the file names relative to the root\n",
    "    data   = [] # holds the text read from the file\n",
    "    target = [] # holds the string of the category\n",
    "\n",
    "    # Load the data from the files in the corpus\n",
    "    for cat in categories:\n",
    "        for name in os.listdir(os.path.join(path, cat)):\n",
    "            files.append(os.path.join(path, cat, name))\n",
    "            target.append(cat)\n",
    "\n",
    "            with open(os.path.join(path, cat, name), 'r') as f:\n",
    "                data.append(f.read())\n",
    "\n",
    "\n",
    "    # Return the data bunch for use similar to the newsgroups example\n",
    "    return Bunch(\n",
    "        categories=categories,\n",
    "        files=files,\n",
    "        data=data,\n",
    "        target=target,\n",
    "    )\n",
    "\n",
    "corpus = load_data('hobbies')\n"
   ]
  },
  {
   "cell_type": "code",
   "execution_count": null,
   "metadata": {},
   "outputs": [],
   "source": [
    "nb = 5\n",
    "for k in corpus.keys():\n",
    "    print(k,len(corpus[k]))\n",
    "    [print('\\t+ '+str((i,e))) for i,e in enumerate(corpus[k]) if i < nb]\n",
    "    if len(corpus[k]) > nb:\n",
    "        print('\\t+ ', '...')\n",
    "        [print('\\t+ '+str((i,e))) for i,e in enumerate(corpus[k]) if i >= len(corpus[k])-nb]\n",
    "    print()"
   ]
  },
  {
   "cell_type": "code",
   "execution_count": null,
   "metadata": {},
   "outputs": [],
   "source": [
    "import matplotlib.pyplot as plt\n",
    "from sklearn.feature_extraction.text import TfidfVectorizer\n",
    "vectorizer = TfidfVectorizer()\n",
    "docs       = vectorizer.fit_transform(corpus.data)\n",
    "labels     = corpus.target"
   ]
  },
  {
   "cell_type": "code",
   "execution_count": null,
   "metadata": {},
   "outputs": [],
   "source": [
    "from yellowbrick.text import TSNEVisualizer\n",
    "tsne = TSNEVisualizer() # distance by default ?\n",
    "tsne.fit(docs, labels)\n",
    "tsne.poof()"
   ]
  },
  {
   "cell_type": "code",
   "execution_count": null,
   "metadata": {},
   "outputs": [],
   "source": [
    "tsne = TSNEVisualizer(metric=\"euclidean\")\n",
    "tsne.fit(docs, labels)\n",
    "tsne.poof()\n"
   ]
  },
  {
   "cell_type": "code",
   "execution_count": null,
   "metadata": {},
   "outputs": [],
   "source": [
    "tsne = TSNEVisualizer(metric=\"cityblock\")\n",
    "tsne.fit(docs, labels)\n",
    "tsne.poof()\n"
   ]
  },
  {
   "cell_type": "code",
   "execution_count": null,
   "metadata": {},
   "outputs": [],
   "source": [
    "tsne = TSNEVisualizer(metric=\"minkowski\")\n",
    "tsne.fit(docs, labels)\n",
    "tsne.poof()\n"
   ]
  },
  {
   "cell_type": "code",
   "execution_count": null,
   "metadata": {},
   "outputs": [],
   "source": [
    "tsne = TSNEVisualizer(metric=\"cosine\")\n",
    "tsne.fit(docs, labels)\n",
    "tsne.poof()\n"
   ]
  },
  {
   "cell_type": "code",
   "execution_count": null,
   "metadata": {},
   "outputs": [],
   "source": [
    "tsne = TSNEVisualizer(metric=\"jaccard\")\n",
    "tsne.fit(docs, labels)\n",
    "tsne.poof()\n"
   ]
  },
  {
   "cell_type": "code",
   "execution_count": null,
   "metadata": {},
   "outputs": [],
   "source": []
  }
 ],
 "metadata": {
  "kernelspec": {
   "display_name": "Python 3",
   "language": "python",
   "name": "python3"
  },
  "language_info": {
   "codemirror_mode": {
    "name": "ipython",
    "version": 3
   },
   "file_extension": ".py",
   "mimetype": "text/x-python",
   "name": "python",
   "nbconvert_exporter": "python",
   "pygments_lexer": "ipython3",
   "version": "3.8.5"
  }
 },
 "nbformat": 4,
 "nbformat_minor": 4
}
