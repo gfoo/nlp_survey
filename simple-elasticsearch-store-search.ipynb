{
 "cells": [
  {
   "cell_type": "markdown",
   "metadata": {},
   "source": [
    "# https://medium.com/version-1/elasticsearch-store-search-and-analyse-large-volumes-of-data-quickly-and-in-real-time-234da6aeae5a"
   ]
  },
  {
   "cell_type": "code",
   "execution_count": null,
   "metadata": {},
   "outputs": [],
   "source": [
    "#!pip install elasticsearch"
   ]
  },
  {
   "cell_type": "code",
   "execution_count": null,
   "metadata": {},
   "outputs": [],
   "source": [
    "import elasticsearch\n",
    "print (elasticsearch.VERSION)"
   ]
  },
  {
   "cell_type": "code",
   "execution_count": null,
   "metadata": {},
   "outputs": [],
   "source": [
    "from datetime import datetime\n",
    "import random\n",
    "from elasticsearch import Elasticsearch\n",
    "hosts = ['localhost']\n",
    "es = Elasticsearch(hosts)\n",
    "es"
   ]
  },
  {
   "cell_type": "code",
   "execution_count": null,
   "metadata": {},
   "outputs": [],
   "source": [
    "i=0\n",
    "index_name = 'cars'\n",
    "while i<50:\n",
    "    doc = {\n",
    "    'timestamp': datetime.utcnow(),\n",
    "    'carName': random.choice(['Skoda', 'Audi', 'Mercedes', 'Toyota', 'BMW', 'Tesla', 'Jaguar', 'Hyundai','Range Rover', 'Mazda'])\n",
    "    }\n",
    "    res = es.index(index = index_name, doc_type = 'doc', body = doc)\n",
    "    i=i+1"
   ]
  },
  {
   "cell_type": "code",
   "execution_count": null,
   "metadata": {},
   "outputs": [],
   "source": [
    "res = es.search(index = index_name, body={'query': {'match': {'carName': 'Skoda'}}})\n",
    "print(f\"Got {res['hits']['total']} Hits:\")\n",
    "for hit in res['hits']['hits']:\n",
    "          print(hit)"
   ]
  },
  {
   "cell_type": "code",
   "execution_count": null,
   "metadata": {},
   "outputs": [],
   "source": []
  }
 ],
 "metadata": {
  "kernelspec": {
   "display_name": "Python 3",
   "language": "python",
   "name": "python3"
  },
  "language_info": {
   "codemirror_mode": {
    "name": "ipython",
    "version": 3
   },
   "file_extension": ".py",
   "mimetype": "text/x-python",
   "name": "python",
   "nbconvert_exporter": "python",
   "pygments_lexer": "ipython3",
   "version": "3.8.5"
  }
 },
 "nbformat": 4,
 "nbformat_minor": 4
}
