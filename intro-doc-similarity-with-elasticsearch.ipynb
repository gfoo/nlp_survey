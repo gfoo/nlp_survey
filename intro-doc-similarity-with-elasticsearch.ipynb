{
 "cells": [
  {
   "cell_type": "markdown",
   "metadata": {},
   "source": [
    "# https://rebeccabilbro.github.io/intro-doc-similarity-with-elasticsearch/"
   ]
  },
  {
   "cell_type": "code",
   "execution_count": null,
   "metadata": {},
   "outputs": [],
   "source": [
    "import os\n",
    "\n",
    "from sklearn.datasets.base import Bunch\n",
    "from yellowbrick.download import download_all\n",
    "\n",
    "## The path to the test data sets\n",
    "FIXTURES  = os.path.join(os.getcwd(), \"data\")\n",
    "\n",
    "## Dataset loading mechanisms\n",
    "datasets = {\n",
    "    \"hobbies\": os.path.join(FIXTURES, \"hobbies\")\n",
    "}"
   ]
  },
  {
   "cell_type": "code",
   "execution_count": null,
   "metadata": {},
   "outputs": [],
   "source": [
    "def load_data(name, download=True):\n",
    "    \"\"\"\n",
    "    Loads and wrangles the passed in text corpus by name.\n",
    "    If download is specified, this method will download any missing files. \n",
    "    \"\"\"\n",
    "    \n",
    "    # Get the path from the datasets \n",
    "    path = datasets[name]\n",
    "    \n",
    "    # Check if the data exists, otherwise download or raise \n",
    "    if not os.path.exists(path):\n",
    "        if download:\n",
    "            download_all() \n",
    "        else:\n",
    "            raise ValueError((\n",
    "                \"'{}' dataset has not been downloaded, \"\n",
    "                \"use the download.py module to fetch datasets\"\n",
    "            ).format(name))\n",
    "    \n",
    "    # Read the directories in the directory as the categories. \n",
    "    categories = [\n",
    "        cat for cat in os.listdir(path) \n",
    "        if os.path.isdir(os.path.join(path, cat))\n",
    "    ]\n",
    "    \n",
    "    files  = [] # holds the file names relative to the root \n",
    "    data   = [] # holds the text read from the file \n",
    "    target = [] # holds the string of the category \n",
    "        \n",
    "    # Load the data from the files in the corpus \n",
    "    for cat in categories:\n",
    "        for name in os.listdir(os.path.join(path, cat)):\n",
    "            files.append(os.path.join(path, cat, name))\n",
    "            target.append(cat)\n",
    "            \n",
    "            with open(os.path.join(path, cat, name), 'r') as f:\n",
    "                data.append(f.read())\n",
    "        \n",
    "    \n",
    "    # Return the data bunch for use similar to the newsgroups example\n",
    "    return Bunch(\n",
    "        categories=categories,\n",
    "        files=files,\n",
    "        data=data,\n",
    "        target=target,\n",
    "    )\n"
   ]
  },
  {
   "cell_type": "code",
   "execution_count": null,
   "metadata": {},
   "outputs": [],
   "source": [
    "corpus = load_data('hobbies')"
   ]
  },
  {
   "cell_type": "code",
   "execution_count": null,
   "metadata": {},
   "outputs": [],
   "source": [
    "nb = 2\n",
    "for k in corpus.keys():\n",
    "    print(k,len(corpus[k]))\n",
    "    [print('\\t+ '+str((i,e))) for i,e in enumerate(corpus[k]) if i < nb]\n",
    "    if len(corpus[k]) > nb:\n",
    "        print('\\t+ ', '...')\n",
    "        [print('\\t+ '+str((i,e))) for i,e in enumerate(corpus[k]) if i >= len(corpus[k])-nb]\n",
    "    print()"
   ]
  },
  {
   "cell_type": "code",
   "execution_count": null,
   "metadata": {},
   "outputs": [],
   "source": [
    "corpus['categories']"
   ]
  },
  {
   "cell_type": "code",
   "execution_count": null,
   "metadata": {},
   "outputs": [],
   "source": [
    "hobby_types  = {}\n",
    "\n",
    "for category in corpus.categories:\n",
    "    texts = []\n",
    "    for idx in range(len(corpus.data)):\n",
    "        if corpus['target'][idx] == category:\n",
    "            texts.append(' '.join(corpus.data[idx].split()))\n",
    "    hobby_types[category] = texts"
   ]
  },
  {
   "cell_type": "code",
   "execution_count": null,
   "metadata": {},
   "outputs": [],
   "source": [
    "food_stories = [text for text in hobby_types['cooking']]\n",
    "print(food_stories[5])\n",
    "print(food_stories[23])"
   ]
  },
  {
   "cell_type": "code",
   "execution_count": null,
   "metadata": {},
   "outputs": [],
   "source": [
    "from elasticsearch.helpers import bulk\n",
    "from elasticsearch import Elasticsearch\n",
    "\n",
    "class ElasticIndexer(object):\n",
    "    \"\"\"\n",
    "    Create an ElasticSearch instance, and given a list of documents, \n",
    "    index the documents into ElasticSearch.\n",
    "    \"\"\"\n",
    "    def __init__(self):\n",
    "        self.elastic_search = Elasticsearch()\n",
    "        \n",
    "    def make_documents(self, textdict):\n",
    "        \"\"\"\n",
    "        A textdict is a dictionary of documents where each key corresponds\n",
    "        to a document category and each value is a list of documents\n",
    "        \"\"\"\n",
    "        for category, docs in textdict:\n",
    "            for document in docs:\n",
    "                yield {\n",
    "                    \"_index\": category,\n",
    "                    \"_type\": \"_doc\",\n",
    "                    \"description\": document\n",
    "                }        \n",
    "                \n",
    "    def index(self, textdict):\n",
    "        bulk(self.elastic_search, self.make_documents(textdict))"
   ]
  },
  {
   "cell_type": "code",
   "execution_count": null,
   "metadata": {},
   "outputs": [],
   "source": [
    "indexer = ElasticIndexer()\n",
    "indexer.index(hobby_types.items())"
   ]
  },
  {
   "cell_type": "code",
   "execution_count": null,
   "metadata": {},
   "outputs": [],
   "source": [
    "from pprint import pprint\n",
    "\n",
    "query = {\"match_all\": {}}\n",
    "result = indexer.elastic_search.search(index=\"cooking\", body={\"query\":query})\n",
    "\n",
    "print(f\"{result['hits']['total']['value']} hits \\n\")\n",
    "print(\"First result:\\n\")\n",
    "pprint(result['hits']['hits'][0])\n"
   ]
  },
  {
   "cell_type": "code",
   "execution_count": null,
   "metadata": {},
   "outputs": [],
   "source": [
    "query = {\"fuzzy\":{\"description\":\"breakfast\"}}\n",
    "result = indexer.elastic_search.search(index=\"cooking\", body={\"query\":query})\n",
    "\n",
    "print(f\"{result['hits']['total']['value']} hits \\n\")\n",
    "print(\"First result:\\n\")\n",
    "pprint(result['hits']['hits'][0])\n"
   ]
  },
  {
   "cell_type": "code",
   "execution_count": null,
   "metadata": {},
   "outputs": [],
   "source": []
  }
 ],
 "metadata": {
  "kernelspec": {
   "display_name": "Python 3",
   "language": "python",
   "name": "python3"
  },
  "language_info": {
   "codemirror_mode": {
    "name": "ipython",
    "version": 3
   },
   "file_extension": ".py",
   "mimetype": "text/x-python",
   "name": "python",
   "nbconvert_exporter": "python",
   "pygments_lexer": "ipython3",
   "version": "3.8.5"
  }
 },
 "nbformat": 4,
 "nbformat_minor": 4
}
